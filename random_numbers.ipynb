{
 "cells": [
  {
   "cell_type": "code",
   "execution_count": 1,
   "metadata": {},
   "outputs": [
    {
     "data": {
      "text/plain": [
       "46"
      ]
     },
     "execution_count": 1,
     "metadata": {},
     "output_type": "execute_result"
    }
   ],
   "source": [
    "import random\n",
    "random.randint(-90,90)\n"
   ]
  },
  {
   "cell_type": "code",
   "execution_count": 5,
   "metadata": {},
   "outputs": [
    {
     "data": {
      "text/plain": [
       "[25.340903704973655,\n",
       " 0.6878084600225389,\n",
       " -21.152498986423055,\n",
       " -51.03544285830292,\n",
       " 34.52835225023505,\n",
       " 22.0176059694329,\n",
       " 26.245586075274602,\n",
       " -36.127815717759425,\n",
       " 64.6644730887725,\n",
       " -84.393119846564]"
      ]
     },
     "execution_count": 5,
     "metadata": {},
     "output_type": "execute_result"
    }
   ],
   "source": [
    "# assign x = 1\n",
    "x=1\n",
    "# initialize empty list of latitudes\n",
    "latitudes = []\n",
    "# create a while loop to generate random lats and add to the lats list\n",
    "while x < 11 :\n",
    "    random_lat = random.randint(-90,89) + random.random()\n",
    "    latitudes.append(random_lat)\n",
    "    # add one to the variable x\n",
    "    x+=1\n",
    "# the while loop will only run if x is less than 11\n",
    "# show list\n",
    "latitudes"
   ]
  },
  {
   "cell_type": "code",
   "execution_count": null,
   "metadata": {},
   "outputs": [],
   "source": []
  }
 ],
 "metadata": {
  "interpreter": {
   "hash": "9d25815804f22609531d0d0f4a81b2d07433a717a98d44c6069d2f33b769663a"
  },
  "kernelspec": {
   "display_name": "Python 3.7.6 64-bit",
   "language": "python",
   "name": "python3"
  },
  "language_info": {
   "codemirror_mode": {
    "name": "ipython",
    "version": 3
   },
   "file_extension": ".py",
   "mimetype": "text/x-python",
   "name": "python",
   "nbconvert_exporter": "python",
   "pygments_lexer": "ipython3",
   "version": "3.9.7"
  },
  "orig_nbformat": 4
 },
 "nbformat": 4,
 "nbformat_minor": 2
}
